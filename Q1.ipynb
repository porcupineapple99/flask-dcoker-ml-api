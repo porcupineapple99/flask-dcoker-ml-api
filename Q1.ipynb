{
 "cells": [
  {
   "cell_type": "code",
   "execution_count": 2,
   "metadata": {},
   "outputs": [
    {
     "name": "stdout",
     "output_type": "stream",
     "text": [
      "Estimated Average Treatment Effect (τ̂): -9.106\n",
      "p-value for τ̂: 0.0004\n",
      "\n",
      "Interpretation:\n",
      "→ The treatment effect is statistically significant at the 5% level.\n",
      "\n",
      "Under the following assumptions, τ̂ can be interpreted causally:\n",
      "1. Unconfoundedness: No unmeasured confounders; treatment is as good as random given X.\n",
      "2. Linearity: The relationship between engagement, treatment, and spending is linear.\n",
      "3. SUTVA: No interference between corporations and only one version of treatment per unit.\n"
     ]
    }
   ],
   "source": [
    "import pandas as pd\n",
    "import statsmodels.api as sm\n",
    "\n",
    "# Step 1: Prepare the dataset\n",
    "data = {\n",
    "    'Y': [137,118,124,124,120,129,122,142,128,114,132,130,130,112,132,117,134,132,121,128],\n",
    "    'W': [0,1,1,1,0,1,1,0,0,1,1,0,0,1,0,1,0,0,1,1],\n",
    "    'X': [19.8,23.4,27.7,24.6,21.5,25.1,22.4,29.3,20.8,20.2,27.3,24.5,22.9,18.4,24.2,21.0,25.9,23.2,21.6,22.8]\n",
    "}\n",
    "df = pd.DataFrame(data)\n",
    "\n",
    "# Step 2: Add constant for intercept\n",
    "X = sm.add_constant(df[['W', 'X']])\n",
    "y = df['Y']\n",
    "\n",
    "# Step 3: Fit the linear regression model\n",
    "model = sm.OLS(y, X).fit()\n",
    "\n",
    "# Step 4: Print results for part b)\n",
    "tau_hat = model.params['W']\n",
    "p_value = model.pvalues['W']\n",
    "\n",
    "print(\"Estimated Average Treatment Effect (τ̂):\", round(tau_hat, 3))\n",
    "print(\"p-value for τ̂:\", round(p_value, 4))\n",
    "print(\"\\nInterpretation:\")\n",
    "if p_value < 0.05:\n",
    "    print(\"→ The treatment effect is statistically significant at the 5% level.\")\n",
    "else:\n",
    "    print(\"→ The treatment effect is NOT statistically significant at the 5% level.\")\n",
    "\n",
    "# Step 5: Explanation for part c)\n",
    "print(\"\\nUnder the following assumptions, τ̂ can be interpreted causally:\")\n",
    "print(\"1. Unconfoundedness: No unmeasured confounders; treatment is as good as random given X.\")\n",
    "print(\"2. Linearity: The relationship between engagement, treatment, and spending is linear.\")\n",
    "print(\"3. SUTVA: No interference between corporations and only one version of treatment per unit.\")\n",
    "\n"
   ]
  }
 ],
 "metadata": {
  "kernelspec": {
   "display_name": "base",
   "language": "python",
   "name": "python3"
  },
  "language_info": {
   "codemirror_mode": {
    "name": "ipython",
    "version": 3
   },
   "file_extension": ".py",
   "mimetype": "text/x-python",
   "name": "python",
   "nbconvert_exporter": "python",
   "pygments_lexer": "ipython3",
   "version": "3.12.4"
  }
 },
 "nbformat": 4,
 "nbformat_minor": 2
}
